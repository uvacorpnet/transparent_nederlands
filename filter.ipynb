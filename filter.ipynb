{
  "worksheets": [
    {
      "cells": [
        {
          "level": 1,
          "cell_type": "heading",
          "source": " Code to filter transparent nederland data and produce a gephi file"
        },
        {
          "cell_type": "code",
          "input": "## All imports go here\nimport pandas as pd\nfrom dateutil.parser import parse\nimport re\nimport numpy as np",
          "outputs": [],
          "language": "python",
          "metadata": {
            "cellView": null,
            "executionInfo": null
          }
        },
        {
          "level": 2,
          "cell_type": "heading",
          "source": " Step 1. Filter namen\n"
        },
        {
          "cell_type": "code",
          "input": "#",
          "outputs": [],
          "language": "python",
          "metadata": {
            "cellView": null,
            "executionInfo": null
          }
        },
        {
          "cell_type": "code",
          "input": "",
          "outputs": [],
          "language": "python",
          "metadata": {
            "cellView": null,
            "executionInfo": null
          }
        },
        {
          "level": 2,
          "cell_type": "heading",
          "source": " Step 2. Merge files to have organizations, political parties and people in one nodes file"
        },
        {
          "cell_type": "code",
          "input": "df = pd.read_csv(\"details-organisationsextracted.csv\",index_col=None)\ndf = df.dropna(subset=[\"organisatie\"])\ndef delete_after_comma(x):\n    ind = x.find(\",\")\n    if ind > 0:\n        return x[:x.find(\",\")]\n    else: return x\ndf[\"organisatie\"] = df[\"organisatie\"].apply(lambda x: delete_after_comma(x))\ndf2 = df.copy()\nnodes1 = df2[['b1-nummer',\"organisatie\"]]\nnodes1.columns = ['Type_x',\"Label\"]\nnodes1[\"Type_x\"] = 'Org'\n\ndf = pd.read_csv(\"namen.csv\",index_col=None)\nnodes2 = df[[\"b1-nummer\",\"partij(en)/fractie(s)\"]]\nnodes2.columns = [\"Type\",\"Label\"]\nnodes2[\"Type\"] = 'Party'\n\nnodes = pd.merge(nodes1,nodes2,on=\"Label\",how=\"outer\")\nnodes.loc[nodes[\"Type\"] != \"Party\",\"Type\"]  = nodes.loc[nodes[\"Type\"] != \"Party\",\"Type_x\"]\ndel nodes[\"Type_x\"]\n\nnodes[\"Id\"] = [i for i in range(nodes.shape[0])]\n\ndf = pd.read_csv(\"namen.csv\",index_col=None)\ndf[\"Naam\"] = df[[ 'voorletters', 'voorna(a)m(en)','achternaam']].apply(lambda x: \"{} {} {}\".format(*x),axis=1)\n\nnodes3 = df[[\"b1-nummer\",\"Naam\",\"functie\"]]\nnodes3.columns = [\"b1-nummer\",\"Label\",\"Type_x\"]\nnodes3[\"Type_x\"] = 'Person'\n\nnodes = pd.merge(nodes,nodes3,on=\"Label\",how=\"outer\")\nnodes = nodes.drop_duplicates(subset=[\"Label\"])\n\nnodes.loc[nodes[\"Type_x\"] == \"Person\",\"Type\"]  = 'Person'\ndel nodes[\"Type_x\"]\nnodes[\"Id\"] = [i for i in range(nodes.shape[0])]\n\nnodes.to_csv(\"nodes_bipartite.csv\",index=None,sep=\"\\t\")\n\nb1_to_id = nodes.copy()\nb1_to_id = b1_to_id.dropna(subset=[\"b1-nummer\"])\nb1_to_id = b1_to_id[[\"b1-nummer\",\"Id\"]]\nb1_to_id[\"b1-nummer\"] = b1_to_id[\"b1-nummer\"].apply(lambda x: int(x))\n\nlabel_to_id = nodes.loc[nodes[\"Type\"] != \"Person\",:].copy()\nlabel_to_id = label_to_id.dropna(subset=[\"Label\"])\nlabel_to_id = label_to_id[[\"Label\",\"Id\"]].sort()\nlabel_to_id.columns = [\"Target_label\",\"Id\"]",
          "outputs": [],
          "language": "python",
          "metadata": {
            "cellView": null,
            "executionInfo": null
          }
        },
        {
          "level": 2,
          "cell_type": "heading",
          "source": " Step 3. Filter"
        },
        {
          "cell_type": "code",
          "input": "## merge so we have an id, and find timestamp\n\ndef separate_datum_org(date):\n    if isinstance(date,float): return [np.NaN,np.NaN]\n    \n    all_slashes = [m.start() for m in re.finditer('/', date)]\n    if len(all_slashes) == 0: return [np.NaN,np.NaN]\n    \n    date = date.replace(\"00\",\"01\")    \n    middle_slash = all_slashes[int(len(all_slashes)/2)]\n    \n    date_in = date[:middle_slash]\n    date_out = date[middle_slash+1:]\n    if len(date_in) < 2 or len(date_in) < 2: return [np.NaN,np.NaN]\n    try: return parse(date_in,fuzzy=True), parse(date_out,fuzzy=True)\n    except: return [np.NaN,np.NaN]\n\ndef separate_datum_peop(date):\n    if isinstance(date,float): return np.NaN\n    return parse(date)\n\ndf = pd.read_csv(\"details-organisationsextracted.csv\",index_col=None)\ndf = df.dropna(subset=[\"organisatie\"])\ndf[\"organisatie\"] = df[\"organisatie\"].apply(lambda x: delete_after_comma(x))\ndates = df[\"datum\"].apply(lambda x: separate_datum_org(x))\ndate_in, date_out = zip(*dates)\ndf[\"date_in\"] = date_in\ndf[\"date_out\"] = date_out\nprint(df.columns)\ndf = df[[\"b1-nummer\",'organisatie','date_in', 'date_out','rubriek']]\n\ndf.columns = ['b1-nummer', 'Target_label', 'date_in', 'date_out', 'rubriek']\n\ndf2 = pd.read_csv(\"namen.csv\",index_col=None,dtype=object)\ndf2[\"date_in\"] = df2[\"begin periode\"].apply(lambda x: separate_datum_peop(x))\ndf2[\"date_out\"] = df2[\"einde periode\"].apply(lambda x: separate_datum_peop(x))\ndf2 = df2[[\"b1-nummer\",'partij(en)/fractie(s)','date_in', 'date_out','functie']]\ndf2.columns = [\"b1-nummer\",'Target_label','date_in', 'date_out','rubriek']\ndf2['rubriek'] = \"-9\"\n\ndf = pd.concat([df,df2])\ndf[\"b1-nummer\"] = df[\"b1-nummer\"].apply(lambda x: int(x))\ndf = df.dropna(subset=[\"Target_label\"])\n\nprint(label_to_id.shape)\nprint(b1_to_id.shape)\n\nedges = pd.merge(df,b1_to_id,on=\"b1-nummer\",how=\"outer\")\ndel edges[\"b1-nummer\"]\nedges.columns = ['Target_label', 'date_in', 'date_out', 'rubriek', 'Source']\nedges = pd.merge(edges,label_to_id,on = \"Target_label\",how=\"outer\")\n\nedges = edges.loc[edges[\"Target_label\"] != \"\",:]\nedges = edges.drop_duplicates()\ndel edges[\"Target_label\"]\nedges.columns = [\"date_in\",\"date_out\",\"rubriek\",\"Source\",\"Target\"]\nedges = edges.loc[:,[\"Source\",\"Target\",\"date_in\",\"date_out\",\"rubriek\"]]\nedges.to_csv(\"edges_bipartite.csv\",index=None,sep=\"\\t\")",
          "outputs": [],
          "language": "python",
          "metadata": {
            "cellView": null,
            "executionInfo": null
          }
        },
        {
          "cell_type": "code",
          "input": "import numpy as np\nnp.array?",
          "outputs": [],
          "language": "python",
          "metadata": {
            "cellView": null,
            "executionInfo": null
          }
        }
      ]
    }
  ],
  "metadata": {
    "name": "transparent_nederland.ipynb",
    "colabVersion": "0.1"
  },
  "nbformat": 3,
  "nbformat_minor": 0
}